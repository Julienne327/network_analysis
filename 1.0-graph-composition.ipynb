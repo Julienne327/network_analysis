{
 "cells": [
  {
   "cell_type": "code",
   "execution_count": null,
   "metadata": {
    "ExecuteTime": {
     "end_time": "2021-08-19T15:48:02.197313Z",
     "start_time": "2021-08-19T15:48:02.181218Z"
    }
   },
   "outputs": [],
   "source": [
    "%load_ext autoreload\n",
    "%autoreload 2"
   ]
  },
  {
   "cell_type": "code",
   "execution_count": null,
   "metadata": {
    "ExecuteTime": {
     "end_time": "2021-08-19T15:48:02.649154Z",
     "start_time": "2021-08-19T15:48:02.199193Z"
    }
   },
   "outputs": [],
   "source": [
    "import plotly.graph_objs as go\n",
    "import pandas as pd\n",
    "import data, graph, plot\n",
    "import networkx as nx"
   ]
  },
  {
   "cell_type": "code",
   "execution_count": null,
   "metadata": {
    "ExecuteTime": {
     "end_time": "2021-08-19T15:48:02.794757Z",
     "start_time": "2021-08-19T15:48:02.650488Z"
    }
   },
   "outputs": [],
   "source": [
    "trans_data_dates = data.get_transaction_data()\n",
    "\n",
    "START_DATE = pd.to_datetime(\"2019-08-05\")\n",
    "END_DATE = pd.to_datetime(\"2020-11-25\")\n",
    "trans_data = data.filter_transaction_dates(\n",
    "    trans_data_dates,\n",
    "    START_DATE,\n",
    "    END_DATE,\n",
    ")"
   ]
  },
  {
   "cell_type": "code",
   "execution_count": null,
   "metadata": {
    "ExecuteTime": {
     "end_time": "2021-08-19T15:48:05.991203Z",
     "start_time": "2021-08-19T15:48:02.795817Z"
    }
   },
   "outputs": [],
   "source": [
    "TIN1 = \"100001766\"\n",
    "G1 = graph.get_network_graph(trans_data, TIN1, 1)\n",
    "figure = plot.plot_circular_graph(G1, trans_data, tin_highlight=[TIN1])\n",
    "go.Figure(figure)"
   ]
  },
  {
   "cell_type": "code",
   "execution_count": null,
   "metadata": {
    "ExecuteTime": {
     "end_time": "2021-08-19T15:48:09.215665Z",
     "start_time": "2021-08-19T15:48:05.992126Z"
    }
   },
   "outputs": [],
   "source": [
    "TIN2 = \"102633821\"\n",
    "G2 = graph.get_network_graph(trans_data, TIN2, 1)\n",
    "G = nx.compose(G1, G2)\n",
    "figure = plot.plot_circular_graph(G, trans_data, tin_highlight=[TIN1, TIN2])\n",
    "go.Figure(figure)"
   ]
  }
 ],
 "metadata": {
  "kernelspec": {
   "display_name": "Python 3",
   "language": "python",
   "name": "python3"
  },
  "language_info": {
   "codemirror_mode": {
    "name": "ipython",
    "version": 3
   },
   "file_extension": ".py",
   "mimetype": "text/x-python",
   "name": "python",
   "nbconvert_exporter": "python",
   "pygments_lexer": "ipython3",
   "version": "3.8.3"
  }
 },
 "nbformat": 4,
 "nbformat_minor": 4
}
